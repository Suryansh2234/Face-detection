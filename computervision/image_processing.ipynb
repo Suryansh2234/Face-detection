{
 "cells": [
  {
   "cell_type": "code",
   "execution_count": 17,
   "id": "9d215114",
   "metadata": {},
   "outputs": [],
   "source": [
    "import cv2"
   ]
  },
  {
   "cell_type": "code",
   "execution_count": 18,
   "id": "4ad67742",
   "metadata": {},
   "outputs": [],
   "source": [
    "image = cv2.imread('image.jpg')"
   ]
  },
  {
   "cell_type": "code",
   "execution_count": 19,
   "id": "ae975886",
   "metadata": {},
   "outputs": [],
   "source": [
    "if image is not None:\n",
    "    cv2.imshow('Image', image)\n",
    "    cv2.waitKey(0)\n",
    "    cv2.destroyAllWindows()\n"
   ]
  },
  {
   "cell_type": "code",
   "execution_count": 20,
   "id": "f594f722",
   "metadata": {},
   "outputs": [
    {
     "data": {
      "text/plain": [
       "array([[[182, 141,  92],\n",
       "        [184, 143,  94],\n",
       "        [185, 144,  95],\n",
       "        ...,\n",
       "        [176, 114,   0],\n",
       "        [175, 113,   0],\n",
       "        [174, 112,   0]],\n",
       "\n",
       "       [[183, 142,  93],\n",
       "        [183, 142,  93],\n",
       "        [183, 142,  93],\n",
       "        ...,\n",
       "        [176, 114,   0],\n",
       "        [175, 113,   0],\n",
       "        [175, 113,   0]],\n",
       "\n",
       "       [[182, 142,  93],\n",
       "        [180, 140,  91],\n",
       "        [179, 139,  90],\n",
       "        ...,\n",
       "        [176, 114,   0],\n",
       "        [176, 114,   0],\n",
       "        [175, 113,   0]],\n",
       "\n",
       "       ...,\n",
       "\n",
       "       [[ 64,  41,   3],\n",
       "        [ 63,  40,   2],\n",
       "        [ 63,  40,   2],\n",
       "        ...,\n",
       "        [ 80,  57,  12],\n",
       "        [ 84,  61,  15],\n",
       "        [ 84,  61,  15]],\n",
       "\n",
       "       [[ 61,  38,   0],\n",
       "        [ 61,  38,   0],\n",
       "        [ 62,  39,   1],\n",
       "        ...,\n",
       "        [ 81,  56,  12],\n",
       "        [ 84,  60,  14],\n",
       "        [ 82,  58,  12]],\n",
       "\n",
       "       [[ 58,  35,   0],\n",
       "        [ 59,  36,   0],\n",
       "        [ 60,  37,   0],\n",
       "        ...,\n",
       "        [ 78,  53,   9],\n",
       "        [ 76,  52,   6],\n",
       "        [ 70,  46,   0]]], shape=(3248, 4872, 3), dtype=uint8)"
      ]
     },
     "execution_count": 20,
     "metadata": {},
     "output_type": "execute_result"
    }
   ],
   "source": [
    "image \n"
   ]
  },
  {
   "cell_type": "code",
   "execution_count": 21,
   "id": "1e1bb62d",
   "metadata": {},
   "outputs": [],
   "source": [
    "gray_image = cv2.cvtColor(image, cv2.COLOR_BGR2GRAY)\n",
    "cv2.imshow('Image', gray_image)\n",
    "cv2.waitKey(0)\n",
    "cv2.destroyAllWindows()\n"
   ]
  },
  {
   "cell_type": "code",
   "execution_count": 22,
   "id": "6cfffd37",
   "metadata": {},
   "outputs": [],
   "source": [
    "blurred_image = cv2.GaussianBlur(image,(15, 15), 0)\n",
    "cv2.imshow('Image', blurred_image)\n",
    "cv2.waitKey(0)\n",
    "cv2.destroyAllWindows()\n"
   ]
  },
  {
   "cell_type": "code",
   "execution_count": 23,
   "id": "e90e86c7",
   "metadata": {},
   "outputs": [],
   "source": [
    "edges = cv2.Canny(gray_image, 100, 200 )\n",
    "cv2.imshow('Edges', edges)\n",
    "cv2.waitKey(0)\n",
    "cv2.destroyAllWindows()\n"
   ]
  },
  {
   "cell_type": "code",
   "execution_count": 24,
   "id": "7da1f379",
   "metadata": {},
   "outputs": [],
   "source": [
    "small_image = cv2.resize(image, (600, 400))\n",
    "cv2.imshow('Small Image', small_image)\n",
    "cv2.waitKey(0)\n",
    "cv2.destroyAllWindows()"
   ]
  },
  {
   "cell_type": "code",
   "execution_count": 25,
   "id": "ba701054",
   "metadata": {},
   "outputs": [
    {
     "data": {
      "text/plain": [
       "(3248, 4872, 3)"
      ]
     },
     "execution_count": 25,
     "metadata": {},
     "output_type": "execute_result"
    }
   ],
   "source": [
    "image.shape"
   ]
  },
  {
   "cell_type": "code",
   "execution_count": 26,
   "id": "a73219b2",
   "metadata": {},
   "outputs": [],
   "source": [
    "drawing = image.copy()\n",
    "cv2.rectangle(drawing, (50, 50), (200, 200), (36, 200, 150), 5)\n",
    "cv2.imshow(\"Rectangle\", drawing)\n",
    "cv2.waitKey(0)\n",
    "cv2.destroyAllWindows()"
   ]
  },
  {
   "cell_type": "code",
   "execution_count": null,
   "id": "94654942",
   "metadata": {},
   "outputs": [],
   "source": []
  }
 ],
 "metadata": {
  "kernelspec": {
   "display_name": "base",
   "language": "python",
   "name": "python3"
  },
  "language_info": {
   "codemirror_mode": {
    "name": "ipython",
    "version": 3
   },
   "file_extension": ".py",
   "mimetype": "text/x-python",
   "name": "python",
   "nbconvert_exporter": "python",
   "pygments_lexer": "ipython3",
   "version": "3.13.5"
  }
 },
 "nbformat": 4,
 "nbformat_minor": 5
}
