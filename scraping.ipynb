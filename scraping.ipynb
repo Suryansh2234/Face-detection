{
 "cells": [
  {
   "cell_type": "code",
   "execution_count": 11,
   "id": "66274ed4",
   "metadata": {},
   "outputs": [],
   "source": [
    "from dputils.scrape import Scraper, Tag\n",
    "from pprint import pp "
   ]
  },
  {
   "cell_type": "markdown",
   "id": "4e881cba",
   "metadata": {},
   "source": [
    "- Tag class"
   ]
  },
  {
   "cell_type": "code",
   "execution_count": 12,
   "id": "e6c654eb",
   "metadata": {},
   "outputs": [],
   "source": [
    "url = \"https://www.flipkart.com/search?q=smartphones&otracker=search&otracker1=search&marketplace=FLIPKART&as-show=on&as=off\""
   ]
  },
  {
   "cell_type": "code",
   "execution_count": 13,
   "id": "91e6209d",
   "metadata": {},
   "outputs": [],
   "source": [
    "scraper = Scraper(url)\n"
   ]
  },
  {
   "cell_type": "code",
   "execution_count": 14,
   "id": "2f0f88d1",
   "metadata": {},
   "outputs": [],
   "source": [
    "result = scraper.get_repeating_date_from_page(\n",
    "    target = Tag('div', cls='DOjaWF gdgoEp'),\n",
    "    items =  Tag('div', cls='_75nlfW'),\n",
    "    title =  Tag('div', cls='KzDlHZ'),\n",
    "    price =  Tag('div', cls='Nx9bqj _4b5DiR')\n",
    ")"
   ]
  },
  {
   "cell_type": "code",
   "execution_count": 15,
   "id": "18b1f05d",
   "metadata": {},
   "outputs": [
    {
     "data": {
      "text/plain": [
       "[]"
      ]
     },
     "execution_count": 15,
     "metadata": {},
     "output_type": "execute_result"
    }
   ],
   "source": [
    "result "
   ]
  },
  {
   "cell_type": "code",
   "execution_count": null,
   "id": "f0f0a038",
   "metadata": {},
   "outputs": [],
   "source": []
  }
 ],
 "metadata": {
  "kernelspec": {
   "display_name": "base",
   "language": "python",
   "name": "python3"
  },
  "language_info": {
   "codemirror_mode": {
    "name": "ipython",
    "version": 3
   },
   "file_extension": ".py",
   "mimetype": "text/x-python",
   "name": "python",
   "nbconvert_exporter": "python",
   "pygments_lexer": "ipython3",
   "version": "3.13.5"
  }
 },
 "nbformat": 4,
 "nbformat_minor": 5
}
